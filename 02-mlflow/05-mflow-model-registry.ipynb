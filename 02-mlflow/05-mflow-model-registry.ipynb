{
 "cells": [
  {
   "cell_type": "markdown",
   "metadata": {},
   "source": [
    "### Understanding How MLFlow saves Data\n",
    "\n",
    "MLFlow has two types of stores\n",
    "\n",
    "**Backend Store**\n",
    "- In this store, MLFlow stores metadata information of experiments like parameters, metrics, tags etc\n",
    "- Bydefault this gets stored in the local filesystem under the name mlruns. In the mlruns file, you will have folder for each experiment. The folder name start with 0 (default experiment) for experiment 1 and if you have two experiments, you will have two folders 0 and 1, these 0 and 1 are experiment ids for the two experiments\n",
    "- Withing each of these folder you will have a meta.yaml file that contains info about where is the artifact location, the experiment_id, experiment name (for folder 0 experiment name is default) and such\n",
    "- For each run you create, a unique folder is created in that experiment folder(i.e. folder names with 0 , 1 ...) And inside this run folder, you will have the artifcats folder containing the model, parameters and all\n",
    "- We can also configure it to store in SQLAlchemy compatible DB (e.g. SQLite, Postgres)\n",
    "\n",
    "**Artifacts Store**\n",
    "- Here MLFlow stores all the artifacts like the dataset used for training, the model itself and other configuration files like conda.yaml, requirements.txt that are needed to run the model\n",
    "- Again by default this is stored in the local filesystem\n",
    "- We can also configure it to store this information in remote location like Amazon S3 Bucket"
   ]
  },
  {
   "cell_type": "markdown",
   "metadata": {},
   "source": [
    "### Tracking Experiments with a Local Database"
   ]
  },
  {
   "cell_type": "markdown",
   "metadata": {},
   "source": [
    "Till now, we have used local files, now we will use local database like sqlite and store the information there\n",
    "\n",
    "We use the following CLI `mlflow ui --port 8080 --backend-store-uri sqlite:///mlruns.db`\n",
    "\n",
    "For a custom artifact location, we can use\n",
    "\n",
    "`mlflow ui --port 8080 --backend-store-uri sqlite:///mlruns.db --default-artifact-root ./artifacts_local`\n",
    "\n",
    "The above commands are written assuming you are running it from the mlops-learning folder, as the paths to backend and artifacts is given according to that folder"
   ]
  },
  {
   "cell_type": "code",
   "execution_count": 36,
   "metadata": {},
   "outputs": [
    {
     "name": "stdout",
     "output_type": "stream",
     "text": [
      "env: MLFLOW_TRACKING_URI=sqlite:///../mlruns.db\n"
     ]
    }
   ],
   "source": [
    "# set the following environment variable\n",
    "# as we are running in 02-mlfow, using the ../mlruns.db\n",
    "%env MLFLOW_TRACKING_URI=sqlite:///../mlruns.db"
   ]
  },
  {
   "cell_type": "markdown",
   "metadata": {},
   "source": [
    "../mlruns.db implies that create / use the sqlite db in the parent folder"
   ]
  },
  {
   "cell_type": "code",
   "execution_count": 55,
   "metadata": {},
   "outputs": [
    {
     "data": {
      "text/plain": [
       "'http://127.0.0.1:8080'"
      ]
     },
     "execution_count": 55,
     "metadata": {},
     "output_type": "execute_result"
    }
   ],
   "source": [
    "import mlflow\n",
    "\n",
    "mlflow.set_tracking_uri(\"http://127.0.0.1:8080\")\n",
    "mlflow.get_tracking_uri()"
   ]
  },
  {
   "cell_type": "code",
   "execution_count": 56,
   "metadata": {},
   "outputs": [
    {
     "data": {
      "text/plain": [
       "[<Experiment: artifact_location='/home/topisano/Desktop/projects/mlops-learning/artifacts_local/0', creation_time=1725114376738, experiment_id='0', last_update_time=1725114376738, lifecycle_stage='active', name='Default', tags={}>]"
      ]
     },
     "execution_count": 56,
     "metadata": {},
     "output_type": "execute_result"
    }
   ],
   "source": [
    "mlflow.search_experiments()"
   ]
  },
  {
   "cell_type": "markdown",
   "metadata": {},
   "source": [
    "We can see that the artifact_location is changed to the location that we have specified"
   ]
  },
  {
   "cell_type": "markdown",
   "metadata": {},
   "source": [
    "We will start logging information"
   ]
  },
  {
   "cell_type": "code",
   "execution_count": 57,
   "metadata": {},
   "outputs": [
    {
     "name": "stderr",
     "output_type": "stream",
     "text": [
      "2024/08/31 19:56:29 INFO mlflow.tracking.fluent: Experiment with name 'mysql-experiment-lr' does not exist. Creating a new experiment.\n"
     ]
    },
    {
     "data": {
      "text/plain": [
       "np.float64(50.66368785767995)"
      ]
     },
     "execution_count": 57,
     "metadata": {},
     "output_type": "execute_result"
    }
   ],
   "source": [
    "import mlflow\n",
    "\n",
    "from sklearn.model_selection import train_test_split\n",
    "from sklearn.datasets import load_diabetes\n",
    "# from sklearn.ensemble import RandomForestRegressor\n",
    "from sklearn.linear_model import LinearRegression\n",
    "from sklearn.metrics import root_mean_squared_error\n",
    "\n",
    "mlflow.set_experiment('mysql-experiment-lr')\n",
    "\n",
    "db = load_diabetes()\n",
    "X_train, X_test, y_train, y_test = train_test_split(db.data, db.target)\n",
    "\n",
    "# Create and train models.\n",
    "lr = LinearRegression()\n",
    "lr.fit(X_train, y_train)\n",
    "\n",
    "# Use the model to make predictions on the test dataset.\n",
    "predictions = lr.predict(X_test)\n",
    "\n",
    "rmse = root_mean_squared_error(y_test, predictions)\n",
    "rmse"
   ]
  },
  {
   "cell_type": "markdown",
   "metadata": {},
   "source": [
    "### Model Signature"
   ]
  },
  {
   "cell_type": "markdown",
   "metadata": {},
   "source": [
    "**Model Signature**\n",
    "The Model Signature in MLflow is integral to the clear and accurate operation of models. It defines the expected format for model inputs and outputs, including any additional parameters needed for inference. This specification acts as a definitive guide, ensuring seamless model integration with MLflow’s tools and external services.\n",
    "\n",
    "**Model Input Example**\n",
    "Complementing the Model Signature, the Model Input Example gives a concrete instance of what valid model input looks like.\n",
    "\n",
    "Mlflow's `autolog` automatically inferes the model signature"
   ]
  },
  {
   "cell_type": "markdown",
   "metadata": {},
   "source": [
    "![](https://mlflow.org/docs/latest/_images/signature-vs-no-signature.png)\n",
    "\n",
    "Model signatures and input examples are foundational to robust ML workflows, offering a blueprint for model interactions that ensures consistency, accuracy, and ease of use. They act as a contract between the model and its users, providing a definitive guide to the expected data format, thus preventing miscommunication and errors that can arise from incorrect or unexpected inputs.\n",
    "\n"
   ]
  },
  {
   "cell_type": "markdown",
   "metadata": {},
   "source": [
    "**Setting a Signature on a Logged Model**\n",
    "\n",
    "The following example demonstrates how to set a model signature on an already-logged sklearn model. Suppose that you’ve logged a sklearn model without a signature like below:"
   ]
  },
  {
   "cell_type": "code",
   "execution_count": 58,
   "metadata": {},
   "outputs": [
    {
     "name": "stderr",
     "output_type": "stream",
     "text": [
      "2024/08/31 19:56:35 WARNING mlflow.models.model: Model logged without a signature and input example. Please set `input_example` parameter when logging the model to auto infer the model signature.\n",
      "2024/08/31 19:56:36 INFO mlflow.tracking._tracking_service.client: 🏃 View run spiffy-quail-591 at: http://127.0.0.1:8080/#/experiments/1/runs/6d0d7569522a45f4b4a623672d61a2cd.\n",
      "2024/08/31 19:56:36 INFO mlflow.tracking._tracking_service.client: 🧪 View experiment at: http://127.0.0.1:8080/#/experiments/1.\n"
     ]
    }
   ],
   "source": [
    "# saving the model\n",
    "with mlflow.start_run():\n",
    "    mlflow.log_metric('rmse',rmse)\n",
    "    mlflow.sklearn.log_model(lr, artifact_path='lr_model')"
   ]
  },
  {
   "cell_type": "markdown",
   "metadata": {},
   "source": [
    "Here, above, we see that we get a warning stating that we have logged the model without a signature and input_example. To solve this, we will use auto singature\n",
    "\n",
    "Automatic signature inference (infer_signature) simplifies the process by deducing the schema from provided datasets. It's particularly useful when the input data structure is complex or when rapid prototyping is needed."
   ]
  },
  {
   "cell_type": "code",
   "execution_count": 59,
   "metadata": {},
   "outputs": [
    {
     "data": {
      "text/plain": [
       "inputs: \n",
       "  [Tensor('float64', (-1, 10))]\n",
       "outputs: \n",
       "  [Tensor('float64', (-1,))]\n",
       "params: \n",
       "  None"
      ]
     },
     "execution_count": 59,
     "metadata": {},
     "output_type": "execute_result"
    }
   ],
   "source": [
    "from mlflow.models import infer_signature\n",
    "\n",
    "# it takes the training data and the predictions that model will make on the training data\n",
    "signature = infer_signature(X_train, lr.predict(X_train))\n",
    "signature"
   ]
  },
  {
   "cell_type": "markdown",
   "metadata": {},
   "source": [
    "We see that model accepts an input of shape (-1, 10) indicating that it will accept 10 features of type float and return an output target of type float. \n",
    "\n",
    "Now, there might be a case where you do not have the model and only have the run id. In this case, you can load the model using run id and infer the signature"
   ]
  },
  {
   "cell_type": "code",
   "execution_count": 60,
   "metadata": {},
   "outputs": [
    {
     "data": {
      "text/plain": [
       "'6d0d7569522a45f4b4a623672d61a2cd'"
      ]
     },
     "execution_count": 60,
     "metadata": {},
     "output_type": "execute_result"
    }
   ],
   "source": [
    "last_active_run = mlflow.last_active_run()\n",
    "run_id = last_active_run.info.run_id\n",
    "run_id"
   ]
  },
  {
   "cell_type": "code",
   "execution_count": 61,
   "metadata": {},
   "outputs": [
    {
     "data": {
      "text/plain": [
       "inputs: \n",
       "  [Tensor('float64', (-1, 10))]\n",
       "outputs: \n",
       "  [Tensor('float64', (-1,))]\n",
       "params: \n",
       "  None"
      ]
     },
     "execution_count": 61,
     "metadata": {},
     "output_type": "execute_result"
    }
   ],
   "source": [
    "# load the logged model\n",
    "model_uri = f\"runs:/{run_id}/lr_model\" # lr_model is the folder name that we have given while saving the model\n",
    "model = mlflow.pyfunc.load_model(model_uri)\n",
    "\n",
    "# construct the model signature from test dataset\n",
    "signature = infer_signature(X_test, model.predict(X_test))\n",
    "\n",
    "signature"
   ]
  },
  {
   "cell_type": "markdown",
   "metadata": {},
   "source": [
    "After inferring the signature through either methods, now we have to set the signature"
   ]
  },
  {
   "cell_type": "code",
   "execution_count": 62,
   "metadata": {},
   "outputs": [],
   "source": [
    "from mlflow.models import set_signature\n",
    "from mlflow.models.model import get_model_info\n",
    "\n",
    "# set the signature for the logged model\n",
    "set_signature(model_uri, signature)\n",
    "\n",
    "# now when you load the model again, it will have the desired signature\n",
    "assert get_model_info(model_uri).signature == signature"
   ]
  },
  {
   "cell_type": "markdown",
   "metadata": {},
   "source": [
    "### Model Registry"
   ]
  },
  {
   "cell_type": "markdown",
   "metadata": {},
   "source": [
    "After we have done all our experimentation, we want to register our model.\n",
    "\n",
    "Let's say we want to push it to stating, so it may be compared with the production model and if good, then will replace it. So Model Registry is place where you can store the information like what are your Challenger Models(models that are created to replace Production models) and what are your Champion models (models running in production)\n",
    "\n",
    "When came with a new model. We want to ask some questions. Like what has changed from previous version of model to new version. Is there any preprocessing needed? What are extra libraries that we need to run a new model\n",
    "\n",
    "And what if when running this new model in production we face some issues and roll back to old model. We need to know where the old model is stored\n",
    "\n",
    "When doing an ML task, we use the MLFlow Tracking Server to log the parameters, metrics, artifactions and also many different model versions\n",
    "\n",
    "Once we believe those models are fit for production, then we will \"register model\" to the MLFlow registry\n",
    "\n",
    "MLFlow registry is the place where we store the production ready models. So whenver a deployment engineer wants to update the models, they can take a look at the Model Registry to find the new prod ready models\n",
    "\n",
    "The MLflow Model Registry component is a centralized model store, set of APIs, and UI, to collaboratively manage the full lifecycle of an MLflow Model. It provides model lineage (which MLflow experiment and run produced the model), model versioning, model aliasing, model tagging, and annotations.\n",
    "\n",
    "Model Registry does not deploy the models, instead it stores the models that are prod ready\n"
   ]
  },
  {
   "cell_type": "code",
   "execution_count": 63,
   "metadata": {},
   "outputs": [
    {
     "name": "stderr",
     "output_type": "stream",
     "text": [
      "Successfully registered model 'sk-learn-linear-reg'.\n",
      "2024/08/31 19:56:55 INFO mlflow.store.model_registry.abstract_store: Waiting up to 300 seconds for model version to finish creation. Model name: sk-learn-linear-reg, version 1\n",
      "Created version '1' of model 'sk-learn-linear-reg'.\n"
     ]
    }
   ],
   "source": [
    "# lets register the Linear Regression Model that we have created\n",
    "result = mlflow.register_model(\n",
    "    model_uri, \"sk-learn-linear-reg\"\n",
    ")\n"
   ]
  },
  {
   "cell_type": "markdown",
   "metadata": {},
   "source": [
    "If a registered model with the name doesn’t exist, the method registers a new model, creates Version 1, and returns a ModelVersion MLflow object. If a registered model with the name exists, the method creates a new model version and returns the version object.\n",
    "\n",
    "We can also register the model directly when logging the model\n",
    "```python\n",
    " # Log the sklearn model and register as version 1\n",
    "    mlflow.sklearn.log_model(\n",
    "        sk_model=model,\n",
    "        artifact_path=\"sklearn-model\",\n",
    "        signature=signature,\n",
    "        registered_model_name=\"sk-learn-linear-model\",\n",
    "    )\n",
    "```\n",
    "\n",
    "Note that, while registering, you also need to provide the signature. And if using `mlflow.autolog()`, the signature will be automatically logged"
   ]
  },
  {
   "cell_type": "markdown",
   "metadata": {},
   "source": [
    "### Interacting with MLFlow Tracking Server"
   ]
  },
  {
   "cell_type": "markdown",
   "metadata": {},
   "source": [
    "The MlflowClient object allows us to interact with...\n",
    "\n",
    "- an MLflow Tracking Server that creates and manages experiments and runs.\n",
    "- an MLflow Registry Server that creates and manages registered models and model versions.\n",
    "\n",
    "\n",
    "To instantiate it we need to pass a tracking URI and/or a registry URI"
   ]
  },
  {
   "cell_type": "code",
   "execution_count": 64,
   "metadata": {},
   "outputs": [
    {
     "data": {
      "text/plain": [
       "[<Experiment: artifact_location='/home/topisano/Desktop/projects/mlops-learning/artifacts_local/1', creation_time=1725114389950, experiment_id='1', last_update_time=1725114389950, lifecycle_stage='active', name='mysql-experiment-lr', tags={}>,\n",
       " <Experiment: artifact_location='/home/topisano/Desktop/projects/mlops-learning/artifacts_local/0', creation_time=1725114376738, experiment_id='0', last_update_time=1725114376738, lifecycle_stage='active', name='Default', tags={}>]"
      ]
     },
     "execution_count": 64,
     "metadata": {},
     "output_type": "execute_result"
    }
   ],
   "source": [
    "from mlflow import MlflowClient\n",
    "\n",
    "client = MlflowClient(\"http://127.0.0.1:8080\")\n",
    "\n",
    "client.search_experiments()\n",
    "\n",
    "# we can also create a new eperiment\n",
    "# client.create_experiment(name=\"my-cool-experiment\")"
   ]
  },
  {
   "cell_type": "code",
   "execution_count": 47,
   "metadata": {},
   "outputs": [],
   "source": [
    "# We can also fetch information from runs\n",
    "# from mlflow.entities import ViewType\n",
    "\n",
    "# runs = client.search_runs(\n",
    "#     experiment_ids='1',\n",
    "#     filter_string=\"metrics.rmse < 7\",\n",
    "#     run_view_type=ViewType.ACTIVE_ONLY,\n",
    "#     max_results=5,\n",
    "#     order_by=[\"metrics.rmse ASC\"]\n",
    "# )\n",
    "\n",
    "# for run in runs:\n",
    "#     print(f\"run id: {run.info.run_id}, rmse: {run.data.metrics['rmse']:.4f}\")"
   ]
  },
  {
   "cell_type": "markdown",
   "metadata": {},
   "source": [
    "Searching for Registered Models"
   ]
  },
  {
   "cell_type": "code",
   "execution_count": 65,
   "metadata": {},
   "outputs": [
    {
     "name": "stdout",
     "output_type": "stream",
     "text": [
      "{   'aliases': {},\n",
      "    'creation_timestamp': 1725114415752,\n",
      "    'description': '',\n",
      "    'last_updated_timestamp': 1725114415783,\n",
      "    'latest_versions': [   <ModelVersion: aliases=[], creation_timestamp=1725114415783, current_stage='None', description='', last_updated_timestamp=1725114415783, name='sk-learn-linear-reg', run_id='6d0d7569522a45f4b4a623672d61a2cd', run_link='', source='/home/topisano/Desktop/projects/mlops-learning/artifacts_local/1/6d0d7569522a45f4b4a623672d61a2cd/artifacts/lr_model', status='READY', status_message='', tags={}, user_id='', version='1'>],\n",
      "    'name': 'sk-learn-linear-reg',\n",
      "    'tags': {}}\n"
     ]
    }
   ],
   "source": [
    "from pprint import pprint\n",
    "\n",
    "# looping through registered model\n",
    "for rm in client.search_registered_models():\n",
    "    pprint(dict(rm), indent=4)"
   ]
  },
  {
   "cell_type": "markdown",
   "metadata": {},
   "source": [
    "Updating a Registered Model"
   ]
  },
  {
   "cell_type": "code",
   "execution_count": 66,
   "metadata": {},
   "outputs": [
    {
     "data": {
      "text/plain": [
       "<ModelVersion: aliases=[], creation_timestamp=1725114415783, current_stage='None', description='This model version is a scikit-learn linear regression', last_updated_timestamp=1725114430728, name='sk-learn-linear-reg', run_id='6d0d7569522a45f4b4a623672d61a2cd', run_link='', source='/home/topisano/Desktop/projects/mlops-learning/artifacts_local/1/6d0d7569522a45f4b4a623672d61a2cd/artifacts/lr_model', status='READY', status_message='', tags={}, user_id='', version='1'>"
      ]
     },
     "execution_count": 66,
     "metadata": {},
     "output_type": "execute_result"
    }
   ],
   "source": [
    "# updating a model\n",
    "client.update_model_version(\n",
    "    name=\"sk-learn-linear-reg\",\n",
    "    version=1,\n",
    "    description=\"This model version is a scikit-learn linear regression\",\n",
    ")"
   ]
  },
  {
   "cell_type": "markdown",
   "metadata": {},
   "source": [
    "Creating a Registered Mode"
   ]
  },
  {
   "cell_type": "code",
   "execution_count": 50,
   "metadata": {},
   "outputs": [],
   "source": [
    "# from mlflow import MlflowClient\n",
    "\n",
    "# client = MlflowClient()\n",
    "\n",
    "# # create an empty registered model with no version\n",
    "# client.create_registered_model(\"sk-learn-random-forest-reg-model\")\n",
    "\n",
    "# # assign that registered model to an existing source\n",
    "# result = client.create_model_version(\n",
    "#     name=\"sk-learn-random-forest-reg-model\",\n",
    "#     source=\"mlruns/0/d16076a3ec534311817565e6527539c0/artifacts/sklearn-model\",\n",
    "#     run_id=\"d16076a3ec534311817565e6527539c0\",\n",
    "# )"
   ]
  },
  {
   "cell_type": "markdown",
   "metadata": {},
   "source": [
    "Getting a Registered Model and Printing its Info"
   ]
  },
  {
   "cell_type": "code",
   "execution_count": 67,
   "metadata": {},
   "outputs": [
    {
     "name": "stdout",
     "output_type": "stream",
     "text": [
      "--Model--\n",
      "name: sk-learn-linear-reg\n",
      "aliases: {}\n"
     ]
    }
   ],
   "source": [
    "def print_model_info(rm):\n",
    "    print(\"--Model--\")\n",
    "    print(\"name: {}\".format(rm.name))\n",
    "    print(\"aliases: {}\".format(rm.aliases))\n",
    "\n",
    "model = client.get_registered_model('sk-learn-linear-reg')\n",
    "print_model_info(model)"
   ]
  },
  {
   "cell_type": "code",
   "execution_count": null,
   "metadata": {},
   "outputs": [],
   "source": []
  },
  {
   "cell_type": "markdown",
   "metadata": {},
   "source": [
    "### Deploying and Organize Models with Aliases and Tags"
   ]
  },
  {
   "cell_type": "markdown",
   "metadata": {},
   "source": [
    "Model aliases and tags help you deploy and organize your models in the Model Registry.\n",
    "\n",
    "For eample, we can set an alias called Champion to the model that is running in the production. And we can set an alias called Challenger to the model that is newly created and is ready for production\n",
    "\n",
    "So now data scientist can evaluate this Challenger model and check if it performs better than the Champion. And if its, then we remove the Champion alias to the old model and put the Champion alias to the new model\n",
    "\n",
    "For these Taks, we deal with MLFlowClient object\n",
    "\n",
    "Indepth Information\n",
    "\n",
    "**Model Version**\n",
    "- Each registered model can have one or many versions. When a new model is added to the Model Registry, it is added as version 1. Each new model registered to the same model name increments the version number. Model versions have tags, which can be useful for tracking attributes of the model version (e.g. pre_deploy_checks: “PASSED”)\n",
    "\n",
    "**Model Alias**\n",
    "- Model aliases allow you to assign a mutable, named reference to a particular version of a registered model. By assigning an alias to a specific model version, you can use the alias to refer that model version via a model URI or the model registry API. For example, you can create an alias named champion that points to version 1 of a model named MyModel. You can then refer to version 1 of MyModel by using the URI models:/MyModel@champion.\n",
    "\n",
    "- Aliases are especially useful for deploying models. For example, you could assign a champion alias to the model version intended for production traffic and target this alias in production workloads. You can then update the model serving production traffic by reassigning the champion alias to a different model version.\n",
    "\n",
    "**Tags**\n",
    "- Tags are key-value pairs that you associate with registered models and model versions, allowing you to label and categorize them by function or status. For example, you could apply a tag with key \"task\" and value \"question-answering\" (displayed in the UI as task:question-answering) to registered models intended for question answering tasks. At the model version level, you could tag versions undergoing pre-deployment validation with validation_status:pending and those cleared for deployment with validation_status:approved.\n",
    "\n"
   ]
  },
  {
   "cell_type": "markdown",
   "metadata": {},
   "source": [
    "Let's set tags to the model"
   ]
  },
  {
   "cell_type": "code",
   "execution_count": 68,
   "metadata": {},
   "outputs": [],
   "source": [
    "# setting tags for the registered model\n",
    "client.set_registered_model_tag(\"sk-learn-linear-reg\", \"task\", \"regression\")\n",
    "# now check the UI for that tag"
   ]
  },
  {
   "cell_type": "code",
   "execution_count": 69,
   "metadata": {},
   "outputs": [],
   "source": [
    "# deleting tags\n",
    "client.delete_registered_model_tag(\"sk-learn-linear-reg\", \"task\")\n",
    "# if you check the UI, the tag will be deleted"
   ]
  },
  {
   "cell_type": "markdown",
   "metadata": {},
   "source": [
    "Let's create Aliases to the model"
   ]
  },
  {
   "cell_type": "code",
   "execution_count": 70,
   "metadata": {},
   "outputs": [],
   "source": [
    "# Here, we set our model as Champion\n",
    "client.set_registered_model_alias(\"sk-learn-linear-reg\", \"champion\", '1')"
   ]
  },
  {
   "cell_type": "code",
   "execution_count": 71,
   "metadata": {},
   "outputs": [
    {
     "data": {
      "text/plain": [
       "<ModelVersion: aliases=['champion'], creation_timestamp=1725114415783, current_stage='None', description='This model version is a scikit-learn linear regression', last_updated_timestamp=1725114430728, name='sk-learn-linear-reg', run_id='6d0d7569522a45f4b4a623672d61a2cd', run_link='', source='/home/topisano/Desktop/projects/mlops-learning/artifacts_local/1/6d0d7569522a45f4b4a623672d61a2cd/artifacts/lr_model', status='READY', status_message='', tags={}, user_id='', version='1'>"
      ]
     },
     "execution_count": 71,
     "metadata": {},
     "output_type": "execute_result"
    }
   ],
   "source": [
    "# get a model version by alias\n",
    "client.get_model_version_by_alias(\"sk-learn-linear-reg\", \"champion\")\n"
   ]
  },
  {
   "cell_type": "markdown",
   "metadata": {},
   "source": [
    "**Fetching an MLflow Model from the Model Registry**"
   ]
  },
  {
   "cell_type": "code",
   "execution_count": 72,
   "metadata": {},
   "outputs": [
    {
     "data": {
      "text/plain": [
       "np.float64(50.66368785767995)"
      ]
     },
     "execution_count": 72,
     "metadata": {},
     "output_type": "execute_result"
    }
   ],
   "source": [
    "# here we are using pyfunction approach to fetch the model\n",
    "import mlflow.pyfunc\n",
    "\n",
    "model_name = \"sk-learn-linear-reg\"\n",
    "model_version = 1\n",
    "\n",
    "model = mlflow.pyfunc.load_model(model_uri=f\"models:/{model_name}/{model_version}\")\n",
    "\n",
    "y_pred = model.predict(X_test)\n",
    "root_mean_squared_error(y_test, y_pred)"
   ]
  },
  {
   "cell_type": "code",
   "execution_count": 73,
   "metadata": {},
   "outputs": [
    {
     "data": {
      "text/plain": [
       "mlflow.pyfunc.loaded_model:\n",
       "  artifact_path: lr_model\n",
       "  flavor: mlflow.sklearn\n",
       "  run_id: 6d0d7569522a45f4b4a623672d61a2cd"
      ]
     },
     "execution_count": 73,
     "metadata": {},
     "output_type": "execute_result"
    }
   ],
   "source": [
    "model"
   ]
  },
  {
   "cell_type": "code",
   "execution_count": null,
   "metadata": {},
   "outputs": [],
   "source": []
  }
 ],
 "metadata": {
  "kernelspec": {
   "display_name": "venv",
   "language": "python",
   "name": "python3"
  },
  "language_info": {
   "codemirror_mode": {
    "name": "ipython",
    "version": 3
   },
   "file_extension": ".py",
   "mimetype": "text/x-python",
   "name": "python",
   "nbconvert_exporter": "python",
   "pygments_lexer": "ipython3",
   "version": "3.11.5"
  }
 },
 "nbformat": 4,
 "nbformat_minor": 2
}
