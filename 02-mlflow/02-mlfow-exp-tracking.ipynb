{
 "cells": [
  {
   "cell_type": "code",
   "execution_count": 8,
   "metadata": {},
   "outputs": [
    {
     "name": "stdout",
     "output_type": "stream",
     "text": [
      "--2024-08-30 08:07:35--  https://d37ci6vzurychx.cloudfront.net/trip-data/yellow_tripdata_2024-01.parquet\n",
      "Resolving d37ci6vzurychx.cloudfront.net (d37ci6vzurychx.cloudfront.net)... 13.226.36.130, 13.226.36.73, 13.226.36.218, ...\n",
      "Connecting to d37ci6vzurychx.cloudfront.net (d37ci6vzurychx.cloudfront.net)|13.226.36.130|:443... connected.\n",
      "HTTP request sent, awaiting response... 200 OK\n",
      "Length: 49961641 (48M) [binary/octet-stream]\n",
      "Saving to: ‘../01-intro/data/yellow_tripdata_2024-01.parquet’\n",
      "\n",
      "yellow_tripdata_202 100%[===================>]  47.65M  --.-KB/s    in 0.1s    \n",
      "\n",
      "2024-08-30 08:07:35 (346 MB/s) - ‘../01-intro/data/yellow_tripdata_2024-01.parquet’ saved [49961641/49961641]\n",
      "\n"
     ]
    },
    {
     "name": "stdout",
     "output_type": "stream",
     "text": [
      "--2024-08-30 08:07:35--  https://d37ci6vzurychx.cloudfront.net/trip-data/yellow_tripdata_2024-02.parquet\n",
      "Resolving d37ci6vzurychx.cloudfront.net (d37ci6vzurychx.cloudfront.net)... 13.226.36.130, 13.226.36.73, 13.226.36.196, ...\n",
      "Connecting to d37ci6vzurychx.cloudfront.net (d37ci6vzurychx.cloudfront.net)|13.226.36.130|:443... connected.\n",
      "HTTP request sent, awaiting response... 200 OK\n",
      "Length: 50349284 (48M) [binary/octet-stream]\n",
      "Saving to: ‘../01-intro/data/yellow_tripdata_2024-02.parquet’\n",
      "\n",
      "yellow_tripdata_202 100%[===================>]  48.02M  --.-KB/s    in 0.1s    \n",
      "\n",
      "2024-08-30 08:07:35 (410 MB/s) - ‘../01-intro/data/yellow_tripdata_2024-02.parquet’ saved [50349284/50349284]\n",
      "\n",
      "--2024-08-30 08:07:35--  https://d37ci6vzurychx.cloudfront.net/trip-data/yellow_tripdata_2021-01.parquet\n",
      "Resolving d37ci6vzurychx.cloudfront.net (d37ci6vzurychx.cloudfront.net)... 13.226.36.73, 13.226.36.130, 13.226.36.218, ...\n",
      "Connecting to d37ci6vzurychx.cloudfront.net (d37ci6vzurychx.cloudfront.net)|13.226.36.73|:443... connected.\n",
      "HTTP request sent, awaiting response... 200 OK\n",
      "Length: 21686067 (21M) [application/x-www-form-urlencoded]\n",
      "Saving to: ‘../01-intro/data/yellow_tripdata_2021-01.parquet’\n",
      "\n",
      "yellow_tripdata_202 100%[===================>]  20.68M  --.-KB/s    in 0.06s   \n",
      "\n",
      "2024-08-30 08:07:35 (331 MB/s) - ‘../01-intro/data/yellow_tripdata_2021-01.parquet’ saved [21686067/21686067]\n",
      "\n",
      "--2024-08-30 08:07:35--  https://d37ci6vzurychx.cloudfront.net/trip-data/yellow_tripdata_2021-02.parquet\n",
      "Resolving d37ci6vzurychx.cloudfront.net (d37ci6vzurychx.cloudfront.net)... 13.226.36.196, 13.226.36.130, 13.226.36.73, ...\n",
      "Connecting to d37ci6vzurychx.cloudfront.net (d37ci6vzurychx.cloudfront.net)|13.226.36.196|:443... connected.\n",
      "HTTP request sent, awaiting response... 200 OK\n",
      "Length: 21777258 (21M) [application/x-www-form-urlencoded]\n",
      "Saving to: ‘../01-intro/data/yellow_tripdata_2021-02.parquet’\n",
      "\n",
      "yellow_tripdata_202 100%[===================>]  20.77M  --.-KB/s    in 0.06s   \n",
      "\n",
      "2024-08-30 08:07:36 (332 MB/s) - ‘../01-intro/data/yellow_tripdata_2021-02.parquet’ saved [21777258/21777258]\n",
      "\n"
     ]
    }
   ],
   "source": [
    "# # Downloading the dataset - Run When using GitHub, as the download path is based on GitHUb CodeSpaces\n",
    "# !wget https://d37ci6vzurychx.cloudfront.net/trip-data/yellow_tripdata_2024-01.parquet -P /workspaces/mlops-learning/01-intro/data\n",
    "# !wget https://d37ci6vzurychx.cloudfront.net/trip-data/yellow_tripdata_2024-02.parquet -P /workspaces/mlops-learning/01-intro/data\n",
    "\n",
    "\n",
    "# # Download 2021 data\n",
    "# !wget https://d37ci6vzurychx.cloudfront.net/trip-data/yellow_tripdata_2021-01.parquet -P /workspaces/mlops-learning/01-intro/data\n",
    "# !wget https://d37ci6vzurychx.cloudfront.net/trip-data/yellow_tripdata_2021-02.parquet -P /workspaces/mlops-learning/01-intro/data\n",
    "\n",
    "# When Running on Other Platform\n",
    "!wget https://d37ci6vzurychx.cloudfront.net/trip-data/yellow_tripdata_2024-01.parquet -P ../01-intro/data\n",
    "!wget https://d37ci6vzurychx.cloudfront.net/trip-data/yellow_tripdata_2024-02.parquet -P ../01-intro/data\n",
    "\n",
    "\n",
    "# Download 2021 data\n",
    "!wget https://d37ci6vzurychx.cloudfront.net/trip-data/yellow_tripdata_2021-01.parquet -P ../01-intro/data\n",
    "!wget https://d37ci6vzurychx.cloudfront.net/trip-data/yellow_tripdata_2021-02.parquet -P ../01-intro/data"
   ]
  },
  {
   "cell_type": "markdown",
   "metadata": {},
   "source": [
    "To check the indepth version of Training and Prediction, check 01-intro folder"
   ]
  },
  {
   "cell_type": "code",
   "execution_count": 1,
   "metadata": {},
   "outputs": [],
   "source": [
    "# importing all the necesasry libraries\n",
    "\n",
    "import pickle\n",
    "import numpy as np\n",
    "import pandas as pd\n",
    "\n",
    "import seaborn as sns\n",
    "import matplotlib.pyplot as plt\n",
    "\n",
    "from sklearn.feature_extraction import DictVectorizer\n",
    "from sklearn.linear_model import LinearRegression, Lasso\n",
    "\n",
    "from sklearn.metrics import root_mean_squared_error\n",
    "\n",
    "\n",
    "from sklearn.model_selection import cross_val_score, KFold"
   ]
  },
  {
   "cell_type": "markdown",
   "metadata": {},
   "source": [
    "We start by Setting the Tracking URI"
   ]
  },
  {
   "cell_type": "code",
   "execution_count": 2,
   "metadata": {},
   "outputs": [
    {
     "data": {
      "text/plain": [
       "<Experiment: artifact_location='mlflow-artifacts:/114282133553756653', creation_time=1725019412855, experiment_id='114282133553756653', last_update_time=1725019412855, lifecycle_stage='active', name='taxi-prediction-xgboost-hyperopt-with-autolog', tags={}>"
      ]
     },
     "execution_count": 2,
     "metadata": {},
     "output_type": "execute_result"
    }
   ],
   "source": [
    "import mlflow\n",
    "\n",
    "# Set our tracking server uri for logging\n",
    "mlflow.set_tracking_uri(uri=\"http://127.0.0.1:5000\")\n",
    "\n",
    "# run only one from the below and comment the other\n",
    "\n",
    "# Create a new MLflow Experiment - Inside an experiment, there will be Runs\n",
    "# mlflow.set_experiment(\"taxi-prediction-xgboost-hyperopt\")\n",
    "\n",
    "# Creating a new one for AutoLog, so can see the with and without AutoLog\n",
    "mlflow.set_experiment(\"taxi-prediction-xgboost-hyperopt-with-autolog\")"
   ]
  },
  {
   "cell_type": "code",
   "execution_count": 3,
   "metadata": {},
   "outputs": [],
   "source": [
    "# a function to read the data, preprocess it and return it\n",
    "def read_and_preprocess(filename):\n",
    "    data = pd.read_parquet(filename)\n",
    "    \n",
    "    # create the target variable\n",
    "    data['ride_duration'] = data['tpep_dropoff_datetime'] - data['tpep_pickup_datetime'] \n",
    "    data['ride_duration'] = data['ride_duration'].apply(lambda x: x.total_seconds()/60) \n",
    "\n",
    "    # take only the data below 1 hour\n",
    "    data = data[(data['ride_duration'] >= 1) & (data['ride_duration'] <= 60)]\n",
    "\n",
    "    # # sample the data to 70k rows\n",
    "    # if len(data) > 70000:\n",
    "    #     sampled_data = data.iloc[:70000,:].copy()\n",
    "    # else:\n",
    "    #     sampled_data = data.copy()\n",
    "    sampled_data = data.copy()\n",
    "    \n",
    "    # chosing categorical\n",
    "    categorical = ['PULocationID', 'DOLocationID']\n",
    "\n",
    "    # convert these numerical categorical features to string categorical features\n",
    "    sampled_data[categorical] = sampled_data[categorical].astype(str)\n",
    "\n",
    "\n",
    "    return sampled_data"
   ]
  },
  {
   "cell_type": "code",
   "execution_count": 4,
   "metadata": {},
   "outputs": [],
   "source": [
    "# When using GitHub CodeSpaces - Path is Set according to that\n",
    "# df_train = read_and_preprocess('/workspaces/mlops-learning/01-intro/data/yellow_tripdata_2021-01.parquet')\n",
    "# df_valid = read_and_preprocess('/workspaces/mlops-learning/01-intro/data/yellow_tripdata_2021-02.parquet')\n",
    "\n",
    "# when not using GitHub CodeSpaces\n",
    "df_train = read_and_preprocess('../01-intro/data/yellow_tripdata_2021-01.parquet')\n",
    "df_valid = read_and_preprocess('../01-intro/data/yellow_tripdata_2021-02.parquet')"
   ]
  },
  {
   "cell_type": "code",
   "execution_count": 5,
   "metadata": {},
   "outputs": [],
   "source": [
    "# chosing categorical and numerical features\n",
    "categorical = ['PULocationID', 'DOLocationID']\n",
    "numerical = ['trip_distance']\n",
    "\n",
    "# to use the DictVectorizer, we need to convert the dataframe to dict\n",
    "train_dicts = df_train[categorical + numerical].to_dict(orient='records')\n",
    "val_dicts = df_valid[categorical + numerical].to_dict(orient='records')\n",
    "\n",
    "\n",
    "dv = DictVectorizer()\n",
    "X_train = dv.fit_transform(train_dicts)\n",
    "X_valid = dv.fit_transform(val_dicts)\n",
    "\n",
    "# storing our target variable\n",
    "target = 'ride_duration'\n",
    "y_train = df_train[target].values\n",
    "y_val = df_valid[target].values"
   ]
  },
  {
   "cell_type": "markdown",
   "metadata": {},
   "source": [
    "Using XGBoost"
   ]
  },
  {
   "cell_type": "code",
   "execution_count": 6,
   "metadata": {},
   "outputs": [],
   "source": [
    "import xgboost as xgb\n",
    "\n",
    "from hyperopt import fmin, tpe, hp, STATUS_OK, Trials\n",
    "from hyperopt.pyll import scope"
   ]
  },
  {
   "cell_type": "code",
   "execution_count": 7,
   "metadata": {},
   "outputs": [],
   "source": [
    "train = xgb.DMatrix(X_train, label=y_train)\n",
    "valid = xgb.DMatrix(X_valid, label=y_val)"
   ]
  },
  {
   "cell_type": "code",
   "execution_count": 9,
   "metadata": {},
   "outputs": [],
   "source": [
    "def objective(params):\n",
    "    with mlflow.start_run():\n",
    "        mlflow.set_tag(\"model\", \"xgboost\")\n",
    "        mlflow.log_params(params)\n",
    "        booster = xgb.train(\n",
    "            params=params,\n",
    "            dtrain=train,\n",
    "            num_boost_round=100,\n",
    "            evals=[(valid, 'validation')],\n",
    "            early_stopping_rounds=10\n",
    "        )\n",
    "        y_pred = booster.predict(valid)\n",
    "        rmse = root_mean_squared_error(y_val, y_pred)\n",
    "        mlflow.log_metric(\"rmse\", rmse)\n",
    "\n",
    "    return {'loss': rmse, 'status': STATUS_OK}"
   ]
  },
  {
   "cell_type": "markdown",
   "metadata": {},
   "source": [
    "The below code does not use AutoLog. For AutoLog, skip this step"
   ]
  },
  {
   "cell_type": "code",
   "execution_count": 29,
   "metadata": {},
   "outputs": [
    {
     "name": "stdout",
     "output_type": "stream",
     "text": [
      "  0%|          | 0/10 [00:00<?, ?trial/s, best loss=?]"
     ]
    },
    {
     "name": "stderr",
     "output_type": "stream",
     "text": [
      "/root/mlops-learning/venv/lib/python3.12/site-packages/xgboost/core.py:158: UserWarning: [10:33:36] WARNING: /workspace/src/objective/regression_obj.cu:227: reg:linear is now deprecated in favor of reg:squarederror.\n",
      "  warnings.warn(smsg, UserWarning)\n",
      "\n"
     ]
    },
    {
     "name": "stdout",
     "output_type": "stream",
     "text": [
      "[0]\tvalidation-rmse:8.76296                           \n",
      "[1]\tvalidation-rmse:8.28224                           \n",
      "[2]\tvalidation-rmse:7.84964                           \n",
      "[3]\tvalidation-rmse:7.46061                           \n",
      "[4]\tvalidation-rmse:7.11444                           \n",
      "[5]\tvalidation-rmse:6.80408                           \n",
      "[6]\tvalidation-rmse:6.52773                           \n",
      "[7]\tvalidation-rmse:6.28252                           \n",
      "[8]\tvalidation-rmse:6.06369                           \n",
      "[9]\tvalidation-rmse:5.86982                           \n",
      "[10]\tvalidation-rmse:5.70158                          \n",
      "[11]\tvalidation-rmse:5.55365                          \n",
      "[12]\tvalidation-rmse:5.42534                          \n",
      "[13]\tvalidation-rmse:5.31378                          \n",
      "[14]\tvalidation-rmse:5.21564                          \n",
      "[15]\tvalidation-rmse:5.13104                          \n",
      "[16]\tvalidation-rmse:5.05841                          \n",
      "[17]\tvalidation-rmse:4.99481                          \n",
      "[18]\tvalidation-rmse:4.94099                          \n",
      "[19]\tvalidation-rmse:4.89441                          \n",
      "[20]\tvalidation-rmse:4.85645                          \n",
      "[21]\tvalidation-rmse:4.82291                          \n",
      "[22]\tvalidation-rmse:4.79510                          \n",
      "[23]\tvalidation-rmse:4.77267                          \n",
      "[24]\tvalidation-rmse:4.75210                          \n",
      "[25]\tvalidation-rmse:4.73575                          \n",
      "[26]\tvalidation-rmse:4.72104                          \n",
      "[27]\tvalidation-rmse:4.70959                          \n",
      "[28]\tvalidation-rmse:4.70044                          \n",
      "[29]\tvalidation-rmse:4.69278                          \n",
      "[30]\tvalidation-rmse:4.68625                          \n",
      "[31]\tvalidation-rmse:4.68146                          \n",
      "[32]\tvalidation-rmse:4.67809                          \n",
      "[33]\tvalidation-rmse:4.67404                          \n",
      "[34]\tvalidation-rmse:4.67137                          \n",
      "[35]\tvalidation-rmse:4.66984                          \n",
      "[36]\tvalidation-rmse:4.66930                          \n",
      "[37]\tvalidation-rmse:4.66817                          \n",
      "[38]\tvalidation-rmse:4.66797                          \n",
      "[39]\tvalidation-rmse:4.66726                          \n",
      "[40]\tvalidation-rmse:4.66824                          \n",
      "[41]\tvalidation-rmse:4.66805                          \n",
      "[42]\tvalidation-rmse:4.66902                          \n",
      "[43]\tvalidation-rmse:4.66978                          \n",
      "[44]\tvalidation-rmse:4.67074                          \n",
      "[45]\tvalidation-rmse:4.67190                          \n",
      "[46]\tvalidation-rmse:4.67364                          \n",
      "[47]\tvalidation-rmse:4.67514                          \n",
      "[48]\tvalidation-rmse:4.67662                          \n",
      "  0%|          | 0/10 [02:31<?, ?trial/s, best loss=?]"
     ]
    },
    {
     "name": "stderr",
     "output_type": "stream",
     "text": [
      "2024/08/30 10:38:31 INFO mlflow.tracking._tracking_service.client: 🏃 View run secretive-whale-158 at: http://127.0.0.1:5000/#/experiments/107471247143277881/runs/0a741829cadb4384993cb10a25f4e486.\n",
      "\n",
      "2024/08/30 10:38:31 INFO mlflow.tracking._tracking_service.client: 🧪 View experiment at: http://127.0.0.1:5000/#/experiments/107471247143277881.\n",
      "\n"
     ]
    },
    {
     "name": "stdout",
     "output_type": "stream",
     "text": [
      " 10%|█         | 1/10 [04:54<44:11, 294.65s/trial, best loss: 4.67849580384672]"
     ]
    },
    {
     "name": "stderr",
     "output_type": "stream",
     "text": [
      "/root/mlops-learning/venv/lib/python3.12/site-packages/xgboost/core.py:158: UserWarning: [10:38:31] WARNING: /workspace/src/objective/regression_obj.cu:227: reg:linear is now deprecated in favor of reg:squarederror.\n",
      "  warnings.warn(smsg, UserWarning)\n",
      "\n"
     ]
    },
    {
     "name": "stdout",
     "output_type": "stream",
     "text": [
      "[0]\tvalidation-rmse:6.67660                                                    \n",
      "[1]\tvalidation-rmse:5.43606                                                    \n",
      "[2]\tvalidation-rmse:4.91277                                                    \n",
      "[3]\tvalidation-rmse:4.70318                                                    \n",
      "[4]\tvalidation-rmse:4.61194                                                    \n",
      "[5]\tvalidation-rmse:4.57404                                                    \n",
      "[6]\tvalidation-rmse:4.55323                                                    \n",
      "[7]\tvalidation-rmse:4.53264                                                    \n",
      "[8]\tvalidation-rmse:4.52164                                                    \n",
      "[9]\tvalidation-rmse:4.51520                                                    \n",
      "[10]\tvalidation-rmse:4.51177                                                   \n",
      "[11]\tvalidation-rmse:4.51555                                                   \n",
      "[12]\tvalidation-rmse:4.51695                                                   \n",
      "[13]\tvalidation-rmse:4.51450                                                   \n",
      "[14]\tvalidation-rmse:4.50277                                                   \n",
      "[15]\tvalidation-rmse:4.50159                                                   \n",
      "[16]\tvalidation-rmse:4.50668                                                   \n",
      "[17]\tvalidation-rmse:4.50134                                                   \n",
      "[18]\tvalidation-rmse:4.49993                                                   \n",
      "[19]\tvalidation-rmse:4.49400                                                   \n",
      "[20]\tvalidation-rmse:4.50045                                                   \n",
      "[21]\tvalidation-rmse:4.50081                                                   \n",
      "[22]\tvalidation-rmse:4.50608                                                   \n",
      "[23]\tvalidation-rmse:4.50433                                                   \n",
      "[24]\tvalidation-rmse:4.50885                                                   \n",
      "[25]\tvalidation-rmse:4.50823                                                   \n",
      "[26]\tvalidation-rmse:4.50419                                                   \n",
      "[27]\tvalidation-rmse:4.50345                                                   \n",
      "[28]\tvalidation-rmse:4.50307                                                   \n",
      "[29]\tvalidation-rmse:4.50465                                                   \n",
      " 10%|█         | 1/10 [05:07<44:11, 294.65s/trial, best loss: 4.67849580384672]"
     ]
    },
    {
     "name": "stderr",
     "output_type": "stream",
     "text": [
      "2024/08/30 10:38:47 INFO mlflow.tracking._tracking_service.client: 🏃 View run beautiful-cat-874 at: http://127.0.0.1:5000/#/experiments/107471247143277881/runs/c43d89bd9fb14bd5857e7c0f626f03e7.\n",
      "\n",
      "2024/08/30 10:38:47 INFO mlflow.tracking._tracking_service.client: 🧪 View experiment at: http://127.0.0.1:5000/#/experiments/107471247143277881.\n",
      "\n"
     ]
    },
    {
     "name": "stdout",
     "output_type": "stream",
     "text": [
      " 20%|██        | 2/10 [05:10<17:27, 130.89s/trial, best loss: 4.504647348518104]"
     ]
    },
    {
     "name": "stderr",
     "output_type": "stream",
     "text": [
      "/root/mlops-learning/venv/lib/python3.12/site-packages/xgboost/core.py:158: UserWarning: [10:38:47] WARNING: /workspace/src/objective/regression_obj.cu:227: reg:linear is now deprecated in favor of reg:squarederror.\n",
      "  warnings.warn(smsg, UserWarning)\n",
      "\n"
     ]
    },
    {
     "name": "stdout",
     "output_type": "stream",
     "text": [
      "[0]\tvalidation-rmse:4.85477                                                     \n",
      "[1]\tvalidation-rmse:4.64241                                                     \n",
      "[2]\tvalidation-rmse:4.68379                                                     \n",
      "[3]\tvalidation-rmse:4.69738                                                     \n",
      "[4]\tvalidation-rmse:4.73046                                                     \n",
      "[5]\tvalidation-rmse:4.75036                                                     \n",
      "[6]\tvalidation-rmse:4.76795                                                     \n",
      "[7]\tvalidation-rmse:4.78693                                                     \n",
      "[8]\tvalidation-rmse:4.79663                                                     \n",
      "[9]\tvalidation-rmse:4.81546                                                     \n",
      "[10]\tvalidation-rmse:4.83213                                                    \n",
      "[11]\tvalidation-rmse:4.85837                                                    \n",
      " 20%|██        | 2/10 [05:24<17:27, 130.89s/trial, best loss: 4.504647348518104]"
     ]
    },
    {
     "name": "stderr",
     "output_type": "stream",
     "text": [
      "2024/08/30 10:39:05 INFO mlflow.tracking._tracking_service.client: 🏃 View run skittish-bat-114 at: http://127.0.0.1:5000/#/experiments/107471247143277881/runs/fe6d20b2a1994184b313f473bca089a1.\n",
      "\n",
      "2024/08/30 10:39:05 INFO mlflow.tracking._tracking_service.client: 🧪 View experiment at: http://127.0.0.1:5000/#/experiments/107471247143277881.\n",
      "\n"
     ]
    },
    {
     "name": "stdout",
     "output_type": "stream",
     "text": [
      " 30%|███       | 3/10 [05:28<09:15, 79.29s/trial, best loss: 4.504647348518104] "
     ]
    },
    {
     "name": "stderr",
     "output_type": "stream",
     "text": [
      "/root/mlops-learning/venv/lib/python3.12/site-packages/xgboost/core.py:158: UserWarning: [10:39:05] WARNING: /workspace/src/objective/regression_obj.cu:227: reg:linear is now deprecated in favor of reg:squarederror.\n",
      "  warnings.warn(smsg, UserWarning)\n",
      "\n"
     ]
    },
    {
     "name": "stdout",
     "output_type": "stream",
     "text": [
      "[0]\tvalidation-rmse:5.36936                                                    \n",
      "[1]\tvalidation-rmse:4.68225                                                    \n",
      "[2]\tvalidation-rmse:4.58157                                                    \n",
      "[3]\tvalidation-rmse:4.55547                                                    \n",
      "[4]\tvalidation-rmse:4.54169                                                    \n",
      "[5]\tvalidation-rmse:4.54798                                                    \n",
      "[6]\tvalidation-rmse:4.54524                                                    \n",
      "[7]\tvalidation-rmse:4.54581                                                    \n",
      "[8]\tvalidation-rmse:4.55304                                                    \n",
      "[9]\tvalidation-rmse:4.55216                                                    \n",
      "[10]\tvalidation-rmse:4.54620                                                   \n",
      "[11]\tvalidation-rmse:4.54877                                                   \n",
      "[12]\tvalidation-rmse:4.55371                                                   \n",
      "[13]\tvalidation-rmse:4.55483                                                   \n",
      " 30%|███       | 3/10 [05:37<09:15, 79.29s/trial, best loss: 4.504647348518104]"
     ]
    },
    {
     "name": "stderr",
     "output_type": "stream",
     "text": [
      "2024/08/30 10:39:17 INFO mlflow.tracking._tracking_service.client: 🏃 View run redolent-shoat-743 at: http://127.0.0.1:5000/#/experiments/107471247143277881/runs/63ce0c44109d4f0895fb6e46cdc1c3c2.\n",
      "\n",
      "2024/08/30 10:39:17 INFO mlflow.tracking._tracking_service.client: 🧪 View experiment at: http://127.0.0.1:5000/#/experiments/107471247143277881.\n",
      "\n"
     ]
    },
    {
     "name": "stdout",
     "output_type": "stream",
     "text": [
      " 40%|████      | 4/10 [05:40<05:16, 52.79s/trial, best loss: 4.504647348518104]"
     ]
    },
    {
     "name": "stderr",
     "output_type": "stream",
     "text": [
      "/root/mlops-learning/venv/lib/python3.12/site-packages/xgboost/core.py:158: UserWarning: [10:39:17] WARNING: /workspace/src/objective/regression_obj.cu:227: reg:linear is now deprecated in favor of reg:squarederror.\n",
      "  warnings.warn(smsg, UserWarning)\n",
      "\n"
     ]
    },
    {
     "name": "stdout",
     "output_type": "stream",
     "text": [
      "[0]\tvalidation-rmse:6.04237                                                    \n",
      "[1]\tvalidation-rmse:4.95930                                                    \n",
      "[2]\tvalidation-rmse:4.71115                                                    \n",
      "[3]\tvalidation-rmse:4.66686                                                    \n",
      "[4]\tvalidation-rmse:4.66125                                                    \n",
      "[5]\tvalidation-rmse:4.68010                                                    \n",
      "[6]\tvalidation-rmse:4.68879                                                    \n",
      "[7]\tvalidation-rmse:4.72415                                                    \n",
      "[8]\tvalidation-rmse:4.73713                                                    \n",
      "[9]\tvalidation-rmse:4.74797                                                    \n",
      "[10]\tvalidation-rmse:4.76058                                                   \n",
      "[11]\tvalidation-rmse:4.76900                                                   \n",
      "[12]\tvalidation-rmse:4.79090                                                   \n",
      "[13]\tvalidation-rmse:4.79790                                                   \n",
      "[14]\tvalidation-rmse:4.81024                                                   \n",
      " 40%|████      | 4/10 [06:05<05:16, 52.79s/trial, best loss: 4.504647348518104]"
     ]
    },
    {
     "name": "stderr",
     "output_type": "stream",
     "text": [
      "2024/08/30 10:39:52 INFO mlflow.tracking._tracking_service.client: 🏃 View run mysterious-dove-102 at: http://127.0.0.1:5000/#/experiments/107471247143277881/runs/14bef8fcc76e41c59080753766801b2a.\n",
      "\n",
      "2024/08/30 10:39:52 INFO mlflow.tracking._tracking_service.client: 🧪 View experiment at: http://127.0.0.1:5000/#/experiments/107471247143277881.\n",
      "\n"
     ]
    },
    {
     "name": "stdout",
     "output_type": "stream",
     "text": [
      " 50%|█████     | 5/10 [06:15<03:51, 46.29s/trial, best loss: 4.504647348518104]"
     ]
    },
    {
     "name": "stderr",
     "output_type": "stream",
     "text": [
      "/root/mlops-learning/venv/lib/python3.12/site-packages/xgboost/core.py:158: UserWarning: [10:39:52] WARNING: /workspace/src/objective/regression_obj.cu:227: reg:linear is now deprecated in favor of reg:squarederror.\n",
      "  warnings.warn(smsg, UserWarning)\n",
      "\n"
     ]
    },
    {
     "name": "stdout",
     "output_type": "stream",
     "text": [
      "[0]\tvalidation-rmse:8.37029                                                    \n",
      "[1]\tvalidation-rmse:7.60576                                                    \n",
      "[2]\tvalidation-rmse:6.98080                                                    \n",
      "[3]\tvalidation-rmse:6.48170                                                    \n",
      "[4]\tvalidation-rmse:6.07250                                                    \n",
      "[5]\tvalidation-rmse:5.75031                                                    \n",
      "[6]\tvalidation-rmse:5.49443                                                    \n",
      "[7]\tvalidation-rmse:5.29412                                                    \n",
      "[8]\tvalidation-rmse:5.14117                                                    \n",
      "[9]\tvalidation-rmse:5.02089                                                    \n",
      "[10]\tvalidation-rmse:4.92637                                                   \n",
      "[11]\tvalidation-rmse:4.85416                                                   \n",
      "[12]\tvalidation-rmse:4.79942                                                   \n",
      "[13]\tvalidation-rmse:4.75512                                                   \n",
      "[14]\tvalidation-rmse:4.72253                                                   \n",
      "[15]\tvalidation-rmse:4.69680                                                   \n",
      "[16]\tvalidation-rmse:4.67513                                                   \n",
      "[17]\tvalidation-rmse:4.65826                                                   \n",
      "[18]\tvalidation-rmse:4.64559                                                   \n",
      "[19]\tvalidation-rmse:4.63491                                                   \n",
      "[20]\tvalidation-rmse:4.62307                                                   \n",
      "[21]\tvalidation-rmse:4.61639                                                   \n",
      "[22]\tvalidation-rmse:4.60960                                                   \n",
      "[23]\tvalidation-rmse:4.60336                                                   \n",
      "[24]\tvalidation-rmse:4.59835                                                   \n",
      "[25]\tvalidation-rmse:4.59389                                                   \n",
      "[26]\tvalidation-rmse:4.58917                                                   \n",
      "[27]\tvalidation-rmse:4.58591                                                   \n",
      "[28]\tvalidation-rmse:4.58236                                                   \n",
      "[29]\tvalidation-rmse:4.58006                                                   \n",
      "[30]\tvalidation-rmse:4.57744                                                   \n",
      "[31]\tvalidation-rmse:4.57457                                                   \n",
      "[32]\tvalidation-rmse:4.57200                                                   \n",
      "[33]\tvalidation-rmse:4.56991                                                   \n",
      "[34]\tvalidation-rmse:4.56807                                                   \n",
      "[35]\tvalidation-rmse:4.56626                                                   \n",
      "[36]\tvalidation-rmse:4.56502                                                   \n",
      "[37]\tvalidation-rmse:4.56432                                                   \n",
      "[38]\tvalidation-rmse:4.56263                                                   \n",
      "[39]\tvalidation-rmse:4.56133                                                   \n",
      "[40]\tvalidation-rmse:4.56033                                                   \n",
      "[41]\tvalidation-rmse:4.55911                                                   \n",
      "[42]\tvalidation-rmse:4.55801                                                   \n",
      "[43]\tvalidation-rmse:4.55704                                                   \n",
      "[44]\tvalidation-rmse:4.55699                                                   \n",
      "[45]\tvalidation-rmse:4.55756                                                   \n",
      "[46]\tvalidation-rmse:4.55487                                                   \n",
      "[47]\tvalidation-rmse:4.55354                                                   \n",
      "[48]\tvalidation-rmse:4.54701                                                   \n",
      "[49]\tvalidation-rmse:4.54661                                                   \n",
      "[50]\tvalidation-rmse:4.54581                                                   \n",
      "[51]\tvalidation-rmse:4.54483                                                   \n",
      "[52]\tvalidation-rmse:4.54426                                                   \n",
      "[53]\tvalidation-rmse:4.54346                                                   \n",
      "[54]\tvalidation-rmse:4.54018                                                   \n",
      "[55]\tvalidation-rmse:4.54044                                                   \n",
      "[56]\tvalidation-rmse:4.53918                                                   \n",
      "[57]\tvalidation-rmse:4.53862                                                   \n",
      "[58]\tvalidation-rmse:4.53827                                                   \n",
      "[59]\tvalidation-rmse:4.53579                                                   \n",
      "[60]\tvalidation-rmse:4.53495                                                   \n",
      "[61]\tvalidation-rmse:4.53437                                                   \n",
      "[62]\tvalidation-rmse:4.53397                                                   \n",
      "[63]\tvalidation-rmse:4.53364                                                   \n",
      "[64]\tvalidation-rmse:4.53317                                                   \n",
      "[65]\tvalidation-rmse:4.53227                                                   \n",
      "[66]\tvalidation-rmse:4.53335                                                   \n",
      "[67]\tvalidation-rmse:4.53229                                                   \n",
      "[68]\tvalidation-rmse:4.52949                                                   \n",
      "[69]\tvalidation-rmse:4.52880                                                   \n",
      "[70]\tvalidation-rmse:4.52691                                                   \n",
      "[71]\tvalidation-rmse:4.52679                                                   \n",
      "[72]\tvalidation-rmse:4.52843                                                   \n",
      "[73]\tvalidation-rmse:4.52771                                                   \n",
      "[74]\tvalidation-rmse:4.52727                                                   \n",
      "[75]\tvalidation-rmse:4.52749                                                   \n",
      "[76]\tvalidation-rmse:4.52716                                                   \n",
      "[77]\tvalidation-rmse:4.52673                                                   \n",
      "[78]\tvalidation-rmse:4.52612                                                   \n",
      "[79]\tvalidation-rmse:4.52541                                                   \n",
      "[80]\tvalidation-rmse:4.52325                                                   \n",
      "[81]\tvalidation-rmse:4.52254                                                   \n",
      "[82]\tvalidation-rmse:4.52240                                                   \n",
      "[83]\tvalidation-rmse:4.52258                                                   \n",
      "[84]\tvalidation-rmse:4.52216                                                   \n",
      "[85]\tvalidation-rmse:4.52116                                                   \n",
      "[86]\tvalidation-rmse:4.52224                                                   \n",
      "[87]\tvalidation-rmse:4.52323                                                   \n",
      "[88]\tvalidation-rmse:4.52327                                                   \n",
      "[89]\tvalidation-rmse:4.52295                                                   \n",
      "[90]\tvalidation-rmse:4.52245                                                   \n",
      "[91]\tvalidation-rmse:4.52252                                                   \n",
      "[92]\tvalidation-rmse:4.52212                                                   \n",
      "[93]\tvalidation-rmse:4.52100                                                   \n",
      "[94]\tvalidation-rmse:4.52108                                                   \n",
      "[95]\tvalidation-rmse:4.52088                                                   \n",
      "[96]\tvalidation-rmse:4.52066                                                   \n",
      "[97]\tvalidation-rmse:4.52009                                                   \n",
      "[98]\tvalidation-rmse:4.51985                                                   \n",
      "[99]\tvalidation-rmse:4.51916                                                   \n",
      " 50%|█████     | 5/10 [06:45<03:51, 46.29s/trial, best loss: 4.504647348518104]"
     ]
    },
    {
     "name": "stderr",
     "output_type": "stream",
     "text": [
      "2024/08/30 10:40:30 INFO mlflow.tracking._tracking_service.client: 🏃 View run orderly-lynx-676 at: http://127.0.0.1:5000/#/experiments/107471247143277881/runs/7e1fa85c956449e8a3e5553359e1e89c.\n",
      "\n",
      "2024/08/30 10:40:30 INFO mlflow.tracking._tracking_service.client: 🧪 View experiment at: http://127.0.0.1:5000/#/experiments/107471247143277881.\n",
      "\n"
     ]
    },
    {
     "name": "stdout",
     "output_type": "stream",
     "text": [
      " 60%|██████    | 6/10 [06:53<02:53, 43.40s/trial, best loss: 4.504647348518104]"
     ]
    },
    {
     "name": "stderr",
     "output_type": "stream",
     "text": [
      "/root/mlops-learning/venv/lib/python3.12/site-packages/xgboost/core.py:158: UserWarning: [10:40:30] WARNING: /workspace/src/objective/regression_obj.cu:227: reg:linear is now deprecated in favor of reg:squarederror.\n",
      "  warnings.warn(smsg, UserWarning)\n",
      "\n"
     ]
    },
    {
     "name": "stdout",
     "output_type": "stream",
     "text": [
      "[0]\tvalidation-rmse:7.95202                                                    \n",
      "[1]\tvalidation-rmse:6.94346                                                    \n",
      "[2]\tvalidation-rmse:6.19513                                                    \n",
      "[3]\tvalidation-rmse:5.66004                                                    \n",
      "[4]\tvalidation-rmse:5.28520                                                    \n",
      "[5]\tvalidation-rmse:5.03459                                                    \n",
      "[6]\tvalidation-rmse:4.86222                                                    \n",
      "[7]\tvalidation-rmse:4.74676                                                    \n",
      "[8]\tvalidation-rmse:4.67753                                                    \n",
      "[9]\tvalidation-rmse:4.62966                                                    \n",
      "[10]\tvalidation-rmse:4.59988                                                   \n",
      "[11]\tvalidation-rmse:4.58104                                                   \n",
      "[12]\tvalidation-rmse:4.57153                                                   \n",
      "[13]\tvalidation-rmse:4.56376                                                   \n",
      "[14]\tvalidation-rmse:4.56494                                                   \n",
      "[15]\tvalidation-rmse:4.56684                                                   \n",
      "[16]\tvalidation-rmse:4.56350                                                   \n",
      "[17]\tvalidation-rmse:4.56998                                                   \n",
      "[18]\tvalidation-rmse:4.57373                                                   \n",
      "[19]\tvalidation-rmse:4.57277                                                   \n",
      "[20]\tvalidation-rmse:4.57869                                                   \n",
      "[21]\tvalidation-rmse:4.58243                                                   \n",
      "[22]\tvalidation-rmse:4.58599                                                   \n",
      "[23]\tvalidation-rmse:4.59063                                                   \n",
      "[24]\tvalidation-rmse:4.59277                                                   \n",
      "[25]\tvalidation-rmse:4.59429                                                   \n",
      "[26]\tvalidation-rmse:4.59551                                                   \n",
      " 60%|██████    | 6/10 [07:38<02:53, 43.40s/trial, best loss: 4.504647348518104]"
     ]
    },
    {
     "name": "stderr",
     "output_type": "stream",
     "text": [
      "2024/08/30 10:41:46 INFO mlflow.tracking._tracking_service.client: 🏃 View run handsome-pig-204 at: http://127.0.0.1:5000/#/experiments/107471247143277881/runs/e2cecf29cb6644e0af03dd49bcf9b31d.\n",
      "\n",
      "2024/08/30 10:41:46 INFO mlflow.tracking._tracking_service.client: 🧪 View experiment at: http://127.0.0.1:5000/#/experiments/107471247143277881.\n",
      "\n"
     ]
    },
    {
     "name": "stdout",
     "output_type": "stream",
     "text": [
      " 70%|███████   | 7/10 [08:09<02:41, 53.95s/trial, best loss: 4.504647348518104]"
     ]
    },
    {
     "name": "stderr",
     "output_type": "stream",
     "text": [
      "/root/mlops-learning/venv/lib/python3.12/site-packages/xgboost/core.py:158: UserWarning: [10:41:46] WARNING: /workspace/src/objective/regression_obj.cu:227: reg:linear is now deprecated in favor of reg:squarederror.\n",
      "  warnings.warn(smsg, UserWarning)\n",
      "\n"
     ]
    },
    {
     "name": "stdout",
     "output_type": "stream",
     "text": [
      "[0]\tvalidation-rmse:8.92604                                                    \n",
      "[1]\tvalidation-rmse:8.58084                                                    \n",
      "[2]\tvalidation-rmse:8.25866                                                    \n",
      "[3]\tvalidation-rmse:7.95789                                                    \n",
      "[4]\tvalidation-rmse:7.67825                                                    \n",
      "[5]\tvalidation-rmse:7.41811                                                    \n",
      "[6]\tvalidation-rmse:7.17633                                                    \n",
      "[7]\tvalidation-rmse:6.95198                                                    \n",
      "[8]\tvalidation-rmse:6.74437                                                    \n",
      "[9]\tvalidation-rmse:6.55206                                                    \n",
      "[10]\tvalidation-rmse:6.37482                                                   \n",
      "[11]\tvalidation-rmse:6.21138                                                   \n",
      "[12]\tvalidation-rmse:6.06082                                                   \n",
      "[13]\tvalidation-rmse:5.92303                                                   \n",
      "[14]\tvalidation-rmse:5.79576                                                   \n",
      "[15]\tvalidation-rmse:5.67920                                                   \n",
      "[16]\tvalidation-rmse:5.57210                                                   \n",
      "[17]\tvalidation-rmse:5.47445                                                   \n",
      "[18]\tvalidation-rmse:5.38530                                                   \n",
      "[19]\tvalidation-rmse:5.30358                                                   \n",
      "[20]\tvalidation-rmse:5.22942                                                   \n",
      "[21]\tvalidation-rmse:5.16179                                                   \n",
      "[22]\tvalidation-rmse:5.10020                                                   \n",
      "[23]\tvalidation-rmse:5.04405                                                   \n",
      "[24]\tvalidation-rmse:4.99312                                                   \n",
      "[25]\tvalidation-rmse:4.94722                                                   \n",
      "[26]\tvalidation-rmse:4.90523                                                   \n",
      "[27]\tvalidation-rmse:4.86762                                                   \n",
      "[28]\tvalidation-rmse:4.83339                                                   \n",
      "[29]\tvalidation-rmse:4.80191                                                   \n",
      "[30]\tvalidation-rmse:4.77390                                                   \n",
      "[31]\tvalidation-rmse:4.74841                                                   \n",
      "[32]\tvalidation-rmse:4.72577                                                   \n",
      "[33]\tvalidation-rmse:4.70514                                                   \n",
      "[34]\tvalidation-rmse:4.68690                                                   \n",
      "[35]\tvalidation-rmse:4.66991                                                   \n",
      "[36]\tvalidation-rmse:4.65497                                                   \n",
      "[37]\tvalidation-rmse:4.64089                                                   \n",
      "[38]\tvalidation-rmse:4.62756                                                   \n",
      "[39]\tvalidation-rmse:4.61586                                                   \n",
      "[40]\tvalidation-rmse:4.60575                                                   \n",
      "[41]\tvalidation-rmse:4.59607                                                   \n",
      "[42]\tvalidation-rmse:4.58755                                                   \n",
      "[43]\tvalidation-rmse:4.57896                                                   \n",
      "[44]\tvalidation-rmse:4.57142                                                   \n",
      "[45]\tvalidation-rmse:4.56480                                                   \n",
      "[46]\tvalidation-rmse:4.55909                                                   \n",
      "[47]\tvalidation-rmse:4.55359                                                   \n",
      "[48]\tvalidation-rmse:4.54888                                                   \n",
      "[49]\tvalidation-rmse:4.54479                                                   \n",
      "[50]\tvalidation-rmse:4.54096                                                   \n",
      "[51]\tvalidation-rmse:4.53720                                                   \n",
      "[52]\tvalidation-rmse:4.53364                                                   \n",
      "[53]\tvalidation-rmse:4.53072                                                   \n",
      "[54]\tvalidation-rmse:4.52822                                                   \n",
      "[55]\tvalidation-rmse:4.52595                                                   \n",
      "[56]\tvalidation-rmse:4.52413                                                   \n",
      "[57]\tvalidation-rmse:4.52211                                                   \n",
      "[58]\tvalidation-rmse:4.52080                                                   \n",
      "[59]\tvalidation-rmse:4.51928                                                   \n",
      "[60]\tvalidation-rmse:4.51779                                                   \n",
      "[61]\tvalidation-rmse:4.51529                                                   \n",
      "[62]\tvalidation-rmse:4.51371                                                   \n",
      "[63]\tvalidation-rmse:4.51281                                                   \n",
      "[64]\tvalidation-rmse:4.51194                                                   \n",
      "[65]\tvalidation-rmse:4.51125                                                   \n",
      "[66]\tvalidation-rmse:4.51131                                                   \n",
      "[67]\tvalidation-rmse:4.51093                                                   \n",
      "[68]\tvalidation-rmse:4.51025                                                   \n",
      "[69]\tvalidation-rmse:4.50964                                                   \n",
      "[70]\tvalidation-rmse:4.50884                                                   \n",
      "[71]\tvalidation-rmse:4.50910                                                   \n",
      "[72]\tvalidation-rmse:4.50901                                                   \n",
      "[73]\tvalidation-rmse:4.50824                                                   \n",
      "[74]\tvalidation-rmse:4.50856                                                   \n",
      "[75]\tvalidation-rmse:4.50844                                                   \n",
      "[76]\tvalidation-rmse:4.50840                                                   \n",
      "[77]\tvalidation-rmse:4.50827                                                   \n",
      "[78]\tvalidation-rmse:4.50828                                                   \n",
      "[79]\tvalidation-rmse:4.50784                                                   \n",
      "[80]\tvalidation-rmse:4.50780                                                   \n",
      "[81]\tvalidation-rmse:4.50786                                                   \n",
      "[82]\tvalidation-rmse:4.50828                                                   \n",
      "[83]\tvalidation-rmse:4.50820                                                   \n",
      "[84]\tvalidation-rmse:4.50804                                                   \n",
      "[85]\tvalidation-rmse:4.50791                                                   \n",
      "[86]\tvalidation-rmse:4.50806                                                   \n",
      "[87]\tvalidation-rmse:4.50858                                                   \n",
      "[88]\tvalidation-rmse:4.50887                                                   \n",
      "[89]\tvalidation-rmse:4.50874                                                   \n",
      " 70%|███████   | 7/10 [10:19<02:41, 53.95s/trial, best loss: 4.504647348518104]"
     ]
    },
    {
     "name": "stderr",
     "output_type": "stream",
     "text": [
      "2024/08/30 10:47:07 INFO mlflow.tracking._tracking_service.client: 🏃 View run casual-owl-71 at: http://127.0.0.1:5000/#/experiments/107471247143277881/runs/ff459969e2c547229915eaf13c4380bc.\n",
      "\n",
      "2024/08/30 10:47:07 INFO mlflow.tracking._tracking_service.client: 🧪 View experiment at: http://127.0.0.1:5000/#/experiments/107471247143277881.\n",
      "\n"
     ]
    },
    {
     "name": "stdout",
     "output_type": "stream",
     "text": [
      " 80%|████████  | 8/10 [13:30<04:38, 139.15s/trial, best loss: 4.504647348518104]"
     ]
    },
    {
     "name": "stderr",
     "output_type": "stream",
     "text": [
      "/root/mlops-learning/venv/lib/python3.12/site-packages/xgboost/core.py:158: UserWarning: [10:47:07] WARNING: /workspace/src/objective/regression_obj.cu:227: reg:linear is now deprecated in favor of reg:squarederror.\n",
      "  warnings.warn(smsg, UserWarning)\n",
      "\n"
     ]
    },
    {
     "name": "stdout",
     "output_type": "stream",
     "text": [
      "[0]\tvalidation-rmse:8.28970                                                     \n",
      "[1]\tvalidation-rmse:7.46737                                                     \n",
      "[2]\tvalidation-rmse:6.80277                                                     \n",
      "[3]\tvalidation-rmse:6.27201                                                     \n",
      "[4]\tvalidation-rmse:5.85358                                                     \n",
      "[5]\tvalidation-rmse:5.52611                                                     \n",
      "[6]\tvalidation-rmse:5.27233                                                     \n",
      "[7]\tvalidation-rmse:5.08073                                                     \n",
      "[8]\tvalidation-rmse:4.93512                                                     \n",
      "[9]\tvalidation-rmse:4.82608                                                     \n",
      "[10]\tvalidation-rmse:4.74464                                                    \n",
      "[11]\tvalidation-rmse:4.68325                                                    \n",
      "[12]\tvalidation-rmse:4.63980                                                    \n",
      "[13]\tvalidation-rmse:4.60657                                                    \n",
      "[14]\tvalidation-rmse:4.58289                                                    \n",
      "[15]\tvalidation-rmse:4.56459                                                    \n",
      "[16]\tvalidation-rmse:4.55087                                                    \n",
      "[17]\tvalidation-rmse:4.54098                                                    \n",
      "[18]\tvalidation-rmse:4.53429                                                    \n",
      "[19]\tvalidation-rmse:4.52768                                                    \n",
      "[20]\tvalidation-rmse:4.52421                                                    \n",
      "[21]\tvalidation-rmse:4.52078                                                    \n",
      "[22]\tvalidation-rmse:4.51992                                                    \n",
      "[23]\tvalidation-rmse:4.51870                                                    \n",
      "[24]\tvalidation-rmse:4.51656                                                    \n",
      "[25]\tvalidation-rmse:4.51758                                                    \n",
      "[26]\tvalidation-rmse:4.51613                                                    \n",
      "[27]\tvalidation-rmse:4.51736                                                    \n",
      "[28]\tvalidation-rmse:4.51885                                                    \n",
      "[29]\tvalidation-rmse:4.51785                                                    \n",
      "[30]\tvalidation-rmse:4.51809                                                    \n",
      "[31]\tvalidation-rmse:4.51798                                                    \n",
      "[32]\tvalidation-rmse:4.51906                                                    \n",
      "[33]\tvalidation-rmse:4.51975                                                    \n",
      "[34]\tvalidation-rmse:4.52011                                                    \n",
      "[35]\tvalidation-rmse:4.52096                                                    \n",
      "[36]\tvalidation-rmse:4.52123                                                    \n",
      " 80%|████████  | 8/10 [14:32<04:38, 139.15s/trial, best loss: 4.504647348518104]"
     ]
    },
    {
     "name": "stderr",
     "output_type": "stream",
     "text": [
      "2024/08/30 10:49:08 INFO mlflow.tracking._tracking_service.client: 🏃 View run nebulous-ray-925 at: http://127.0.0.1:5000/#/experiments/107471247143277881/runs/222d660ecce24adfa41442b4e2f395b9.\n",
      "\n",
      "2024/08/30 10:49:08 INFO mlflow.tracking._tracking_service.client: 🧪 View experiment at: http://127.0.0.1:5000/#/experiments/107471247143277881.\n",
      "\n"
     ]
    },
    {
     "name": "stdout",
     "output_type": "stream",
     "text": [
      " 90%|█████████ | 9/10 [15:31<02:13, 133.42s/trial, best loss: 4.504647348518104]"
     ]
    },
    {
     "name": "stderr",
     "output_type": "stream",
     "text": [
      "/root/mlops-learning/venv/lib/python3.12/site-packages/xgboost/core.py:158: UserWarning: [10:49:08] WARNING: /workspace/src/objective/regression_obj.cu:227: reg:linear is now deprecated in favor of reg:squarederror.\n",
      "  warnings.warn(smsg, UserWarning)\n",
      "\n"
     ]
    },
    {
     "name": "stdout",
     "output_type": "stream",
     "text": [
      "[0]\tvalidation-rmse:6.49508                                                     \n",
      "[1]\tvalidation-rmse:5.27101                                                     \n",
      "[2]\tvalidation-rmse:4.81807                                                     \n",
      "[3]\tvalidation-rmse:4.66455                                                     \n",
      "[4]\tvalidation-rmse:4.60846                                                     \n",
      "[5]\tvalidation-rmse:4.59279                                                     \n",
      "[6]\tvalidation-rmse:4.57714                                                     \n",
      "[7]\tvalidation-rmse:4.56750                                                     \n",
      "[8]\tvalidation-rmse:4.56758                                                     \n",
      "[9]\tvalidation-rmse:4.57087                                                     \n",
      "[10]\tvalidation-rmse:4.57360                                                    \n",
      "[11]\tvalidation-rmse:4.57406                                                    \n",
      "[12]\tvalidation-rmse:4.57330                                                    \n",
      "[13]\tvalidation-rmse:4.58410                                                    \n",
      "[14]\tvalidation-rmse:4.58529                                                    \n",
      "[15]\tvalidation-rmse:4.58709                                                    \n",
      "[16]\tvalidation-rmse:4.58943                                                    \n",
      "[17]\tvalidation-rmse:4.59053                                                    \n",
      " 90%|█████████ | 9/10 [15:44<02:13, 133.42s/trial, best loss: 4.504647348518104]"
     ]
    },
    {
     "name": "stderr",
     "output_type": "stream",
     "text": [
      "2024/08/30 10:49:25 INFO mlflow.tracking._tracking_service.client: 🏃 View run enchanting-bug-95 at: http://127.0.0.1:5000/#/experiments/107471247143277881/runs/f609759083824907a1388169c733fbd8.\n",
      "\n",
      "2024/08/30 10:49:25 INFO mlflow.tracking._tracking_service.client: 🧪 View experiment at: http://127.0.0.1:5000/#/experiments/107471247143277881.\n",
      "\n"
     ]
    },
    {
     "name": "stdout",
     "output_type": "stream",
     "text": [
      "100%|██████████| 10/10 [15:48<00:00, 94.83s/trial, best loss: 4.504647348518104]\n"
     ]
    }
   ],
   "source": [
    "search_space = {\n",
    "    'max_depth': scope.int(hp.quniform('max_depth', 4, 100, 1)),\n",
    "    'learning_rate': hp.loguniform('learning_rate', -3, 0),\n",
    "    'reg_alpha': hp.loguniform('reg_alpha', -5, -1),\n",
    "    'reg_lambda': hp.loguniform('reg_lambda', -6, -1),\n",
    "    'min_child_weight': hp.loguniform('min_child_weight', -1, 3),\n",
    "    'objective': 'reg:linear',\n",
    "    'seed': 42\n",
    "}\n",
    "\n",
    "# so the objective will be called 10 times and for each time, a run will be registered in the MLFlow\n",
    "best_result = fmin(\n",
    "    fn=objective,\n",
    "    space=search_space,\n",
    "    algo=tpe.suggest,\n",
    "    max_evals=10,\n",
    "    trials=Trials()\n",
    ")"
   ]
  },
  {
   "cell_type": "markdown",
   "metadata": {},
   "source": [
    "We can also use the Built-in Auto Logging Provided by MLFlow for different models\n",
    "\n",
    "Here, we are testing for a single example. "
   ]
  },
  {
   "cell_type": "code",
   "execution_count": 8,
   "metadata": {},
   "outputs": [
    {
     "name": "stderr",
     "output_type": "stream",
     "text": [
      "2024/08/30 12:13:50 WARNING mlflow.utils.autologging_utils: You are using an unsupported version of xgboost. If you encounter errors during autologging, try upgrading / downgrading xgboost to a supported version, or try upgrading MLflow.\n",
      "2024/08/30 12:13:50 INFO mlflow.utils.autologging_utils: Created MLflow autologging run with ID 'f8b84fbc41164e0eacc741978372fbc4', which will track hyperparameters, performance metrics, model artifacts, and lineage information for the current xgboost workflow\n"
     ]
    },
    {
     "ename": "",
     "evalue": "",
     "output_type": "error",
     "traceback": [
      "\u001b[1;31mThe Kernel crashed while executing code in the current cell or a previous cell. \n",
      "\u001b[1;31mPlease review the code in the cell(s) to identify a possible cause of the failure. \n",
      "\u001b[1;31mClick <a href='https://aka.ms/vscodeJupyterKernelCrash'>here</a> for more info. \n",
      "\u001b[1;31mView Jupyter <a href='command:jupyter.viewOutput'>log</a> for further details."
     ]
    }
   ],
   "source": [
    "# these parameters are taken after running the above cell and\n",
    "# checking which parameters got the best rmse\n",
    "params = {\n",
    "    'max_depth': 36,\n",
    "    'learning_rate': 0.4,\n",
    "    'reg_alpha': 0.015,\n",
    "    'reg_lambda': 0.0053,\n",
    "    'min_child_weight': 15.88,\n",
    "    'seed': 42\n",
    "}\n",
    "\n",
    "# we provide the autolog here, just before the run function which gets executed in objective function\n",
    "mlflow.xgboost.autolog() \n",
    "\n",
    "# so the objective will be called 10 times and for each time, a run will be registered in the MLFlow\n",
    "booster = xgb.train(\n",
    "            params=params,\n",
    "            dtrain=train,\n",
    "            num_boost_round=100,\n",
    "            evals=[(valid, 'validation')],\n",
    "            early_stopping_rounds=10\n",
    "        )\n"
   ]
  },
  {
   "cell_type": "code",
   "execution_count": 10,
   "metadata": {},
   "outputs": [],
   "source": [
    "# chosing categorical and numerical features\n",
    "categorical = ['PULocationID', 'DOLocationID']\n",
    "numerical = ['trip_distance']\n",
    "\n",
    "# to use the DictVectorizer, we need to convert the dataframe to dict\n",
    "train_dicts = df_train[categorical + numerical].to_dict(orient='records')\n",
    "val_dicts = df_valid[categorical + numerical].to_dict(orient='records')\n",
    "\n",
    "\n",
    "dv = DictVectorizer()\n",
    "X_train = dv.fit_transform(train_dicts)\n",
    "X_valid = dv.fit_transform(val_dicts)\n",
    "\n",
    "# storing our target variable\n",
    "target = 'ride_duration'\n",
    "y_train = df_train[target].values\n",
    "y_val = df_valid[target].values"
   ]
  },
  {
   "cell_type": "code",
   "execution_count": 11,
   "metadata": {},
   "outputs": [
    {
     "data": {
      "text/plain": [
       "7.683747664707015"
      ]
     },
     "execution_count": 11,
     "metadata": {},
     "output_type": "execute_result"
    }
   ],
   "source": [
    "# train a LinearRegression Model\n",
    "lr = LinearRegression()\n",
    "\n",
    "lr.fit(X_train, y_train)\n",
    "\n",
    "# make predictions on test_data\n",
    "y_pred = lr.predict(X_valid)\n",
    "\n",
    "# calculate the metrics\n",
    "root_mean_squared_error(y_val, y_pred) # squared set to False implies we are using RMSE instead MSE"
   ]
  },
  {
   "cell_type": "code",
   "execution_count": 12,
   "metadata": {},
   "outputs": [
    {
     "data": {
      "text/plain": [
       "<matplotlib.legend.Legend at 0x74c1bb8f8560>"
      ]
     },
     "execution_count": 12,
     "metadata": {},
     "output_type": "execute_result"
    },
    {
     "data": {
      "image/png": "[encoded data removed]",
      "text/plain": [
       "<Figure size 640x480 with 1 Axes>"
      ]
     },
     "metadata": {},
     "output_type": "display_data"
    }
   ],
   "source": [
    "# sns.displot(y_train, kde=True, stat='density',kde_kws=dict(cut=3), label='Actual')\n",
    "# sns.displot(y_pred, kde=True, stat='density',kde_kws=dict(cut=3), label='Predicted') \n",
    "\n",
    "# sns.distplot(y_train, kde=True, label='Actual')\n",
    "# sns.distplot(y_pred, kde=True, label='Predicted') \n",
    "\n",
    "sns.kdeplot(y_val,label='Actual')\n",
    "sns.kdeplot(y_pred,label='Predicted') \n",
    "\n",
    "plt.legend()\n"
   ]
  },
  {
   "cell_type": "markdown",
   "metadata": {},
   "source": [
    "Let's say, we want to monitor the performance of Lasso. We can do that with MLflow"
   ]
  },
  {
   "cell_type": "code",
   "execution_count": 13,
   "metadata": {},
   "outputs": [
    {
     "name": "stderr",
     "output_type": "stream",
     "text": [
      "2024/08/30 08:08:49 INFO mlflow.tracking._tracking_service.client: 🏃 View run amazing-deer-716 at: http://127.0.0.1:5000/#/experiments/607365059119017646/runs/2479dd72165b4b809766591d690f3023.\n",
      "2024/08/30 08:08:49 INFO mlflow.tracking._tracking_service.client: 🧪 View experiment at: http://127.0.0.1:5000/#/experiments/607365059119017646.\n"
     ]
    }
   ],
   "source": [
    "# train a Lasso Model\n",
    "with mlflow.start_run():\n",
    "    # adding tags, so we can use them to filter\n",
    "    mlflow.set_tag(\"model\",'LASSO')\n",
    "\n",
    "    # adding data sources for train and validation (this is basic and there might be a better way to do it)\n",
    "    paths = {'train-data-path':'01-intro/data/yellow_tripdata_2021-01.parquet',\n",
    "             'val-data-path':'01-intro/data/yellow_tripdata_2021-02.parquet'}\n",
    "\n",
    "    # log_params() is for logging multiple params\n",
    "    mlflow.log_params(params=paths)\n",
    "\n",
    "    # log_param() is logging single parameter\n",
    "    alpha = 0.1\n",
    "\n",
    "    mlflow.log_param(\"alpha\",alpha)\n",
    "\n",
    "    # training the model\n",
    "    lr = Lasso(alpha=alpha)\n",
    "    lr.fit(X_train, y_train)\n",
    "\n",
    "    # make predictions on test_data\n",
    "    y_pred = lr.predict(X_valid)\n",
    "\n",
    "    # calculate the metrics\n",
    "    rmse = root_mean_squared_error(y_val, y_pred) # squared set to False implies we are using RMSE instead MSE\n",
    "\n",
    "    # logging the metrics\n",
    "    mlflow.log_metric(\"rmse\",rmse) # use log_metrics() to log multiple metrics, it takes a dict of metrics and their values"
   ]
  },
  {
   "cell_type": "markdown",
   "metadata": {},
   "source": [
    "### K-Fold Cross Valiation"
   ]
  },
  {
   "cell_type": "code",
   "execution_count": 24,
   "metadata": {},
   "outputs": [
    {
     "name": "stdout",
     "output_type": "stream",
     "text": [
      "Cross-Validation RMSE: [5.87214604 5.94142789 5.96554232 5.80563044 5.80900893]\n",
      "Average Cross-Validation RMSE: 5.87875112379174\n"
     ]
    }
   ],
   "source": [
    "# Convert the dataset to dictionaries\n",
    "train_dicts = train_data.to_dict(orient='records')\n",
    "\n",
    "# Vectorize the data\n",
    "dv = DictVectorizer()\n",
    "X = dv.fit_transform(train_dicts)\n",
    "y = sampled_data['ride_duration'].values\n",
    "\n",
    "# Initialize the Linear Regression model\n",
    "lr = LinearRegression()\n",
    "\n",
    "# Set up 5-fold cross-validation\n",
    "kf = KFold(n_splits=5, shuffle=True, random_state=42)\n",
    "\n",
    "# Perform cross-validation\n",
    "cv_rmse = np.sqrt(-cross_val_score(lr, X, y, cv=kf, scoring='neg_mean_squared_error'))\n",
    "\n",
    "print(f'Cross-Validation RMSE: {cv_rmse}')\n",
    "print(f'Average Cross-Validation RMSE: {cv_rmse.mean()}')"
   ]
  },
  {
   "cell_type": "markdown",
   "metadata": {},
   "source": [
    "`scoring='neg_mean_squared_error'`: This tells cross_val_score to evaluate the model using the Negative Mean Squared Error (MSE) as the scoring metric. The reason for using \"negative\" MSE is that cross_val_score by default assumes higher scores are better, so negative values allow it to maintain consistency (since MSE is a loss function, lower is better).\n",
    "\n",
    "`-cross_val_score(...):`\n",
    "\n",
    "The scores returned by cross_val_score are negative because of the `neg_mean_squared_error` scoring. By negating them (multiplying by -1), you get the actual Mean Squared Error (MSE) values for each fold. If it's negative we cannot take the square root of it\n",
    "\n",
    "MSE is the average of the squared differences between the predicted and actual values. RMSE is the square root of the MSE, which is more interpretable because it’s in the same units as the target variable (ride_duration in this case).\n"
   ]
  },
  {
   "cell_type": "code",
   "execution_count": 26,
   "metadata": {},
   "outputs": [
    {
     "name": "stdout",
     "output_type": "stream",
     "text": [
      "Cross-Validation RMSE: [0.82801636 0.81976742 0.82515868 0.82878804 0.83299871]\n",
      "Average Cross-Validation RMSE: 0.826945840395376\n"
     ]
    }
   ],
   "source": [
    "# Perform cross-validation - Without Scoring Variable\n",
    "# if scoring is not mentioned, the default score func of estimator will be used\n",
    "# the default scorer for LinearReg is R Square i.e. (1 - u/v), where\n",
    "# \"u\" is he residual sum of squares ((y_true - y_pred)** 2).sum() and is the total sum of squares ((y_true - y_true.mean()) ** 2).sum()\n",
    "# and the best possible score is 1.0 and worst is 0\n",
    "cv_rmse = np.sqrt(cross_val_score(lr, X, y, cv=kf))\n",
    "\n",
    "print(f'Cross-Validation RMSE: {cv_rmse}')\n",
    "print(f'Average Cross-Validation RMSE: {cv_rmse.mean()}')"
   ]
  },
  {
   "cell_type": "code",
   "execution_count": null,
   "metadata": {},
   "outputs": [],
   "source": []
  }
 ],
 "metadata": {
  "kernelspec": {
   "display_name": "Python 3",
   "language": "python",
   "name": "python3"
  },
  "language_info": {
   "codemirror_mode": {
    "name": "ipython",
    "version": 3
   },
   "file_extension": ".py",
   "mimetype": "text/x-python",
   "name": "python",
   "nbconvert_exporter": "python",
   "pygments_lexer": "ipython3",
   "version": "3.12.3"
  }
 },
 "nbformat": 4,
 "nbformat_minor": 2
}
